{
  "cells": [
    {
      "cell_type": "markdown",
      "metadata": {},
      "source": [
        "<p style=\"text-align:center\">\n",
        "    <a href=\"https://skills.network/?utm_medium=Exinfluencer&utm_source=Exinfluencer&utm_content=000026UJ&utm_term=10006555&utm_id=NA-SkillsNetwork-Channel-SkillsNetworkCoursesIBMDA0321ENSkillsNetwork928-2022-01-01\" target=\"_blank\">\n",
        "    <img src=\"https://cf-courses-data.s3.us.cloud-object-storage.appdomain.cloud/assets/logos/SN_web_lightmode.png\" width=\"400\" alt=\"Skills Network Logo\"  />\n",
        "    </a>\n",
        "</p>\n"
      ]
    },
    {
      "cell_type": "markdown",
      "metadata": {},
      "source": [
        "# **Data Wrangling Lab**\n"
      ]
    },
    {
      "cell_type": "markdown",
      "metadata": {},
      "source": [
        "Estimated time needed: **45 to 60** minutes\n"
      ]
    },
    {
      "cell_type": "markdown",
      "metadata": {},
      "source": [
        "In this assignment you will be performing data wrangling.\n"
      ]
    },
    {
      "cell_type": "markdown",
      "metadata": {},
      "source": [
        "## Objectives\n"
      ]
    },
    {
      "cell_type": "markdown",
      "metadata": {},
      "source": [
        "In this lab you will perform the following:\n"
      ]
    },
    {
      "cell_type": "markdown",
      "metadata": {},
      "source": [
        "-   Identify duplicate values in the dataset.\n",
        "\n",
        "-   Remove duplicate values from the dataset.\n",
        "\n",
        "-   Identify missing values in the dataset.\n",
        "\n",
        "-   Impute the missing values in the dataset.\n",
        "\n",
        "-   Normalize data in the dataset.\n"
      ]
    },
    {
      "cell_type": "markdown",
      "metadata": {},
      "source": [
        "<hr>\n"
      ]
    },
    {
      "cell_type": "markdown",
      "metadata": {},
      "source": [
        "## Hands on Lab\n"
      ]
    },
    {
      "cell_type": "markdown",
      "metadata": {},
      "source": [
        "Import pandas module.\n"
      ]
    },
    {
      "cell_type": "code",
      "execution_count": 1,
      "metadata": {
        "trusted": true
      },
      "outputs": [],
      "source": [
        "import pandas as pd\n",
        "import numpy as np"
      ]
    },
    {
      "cell_type": "markdown",
      "metadata": {},
      "source": [
        "Load the dataset into a dataframe.\n"
      ]
    },
    {
      "cell_type": "markdown",
      "metadata": {},
      "source": [
        "<h2>Read Data</h2>\n",
        "<p>\n",
        "We utilize the <code>pandas.read_csv()</code> function for reading CSV files. However, in this version of the lab, which operates on JupyterLite, the dataset needs to be downloaded to the interface using the provided code below.\n",
        "</p>\n"
      ]
    },
    {
      "cell_type": "markdown",
      "metadata": {},
      "source": [
        "The functions below will download the dataset into your browser:\n"
      ]
    },
    {
      "cell_type": "code",
      "execution_count": 2,
      "metadata": {
        "trusted": true
      },
      "outputs": [],
      "source": [
        "from pyodide.http import pyfetch\n",
        "\n",
        "async def download(url, filename):\n",
        "    response = await pyfetch(url)\n",
        "    if response.status == 200:\n",
        "        with open(filename, \"wb\") as f:\n",
        "            f.write(await response.bytes())"
      ]
    },
    {
      "cell_type": "code",
      "execution_count": 3,
      "metadata": {
        "trusted": true
      },
      "outputs": [],
      "source": [
        "file_path = \"https://cf-courses-data.s3.us.cloud-object-storage.appdomain.cloud/IBM-DA0321EN-SkillsNetwork/LargeData/m1_survey_data.csv\""
      ]
    },
    {
      "cell_type": "markdown",
      "metadata": {},
      "source": [
        "To obtain the dataset, utilize the download() function as defined above:  \n"
      ]
    },
    {
      "cell_type": "code",
      "execution_count": 4,
      "metadata": {
        "trusted": true
      },
      "outputs": [],
      "source": [
        "await download(file_path, \"m1_survey_data.csv\")\n",
        "file_name=\"m1_survey_data.csv\""
      ]
    },
    {
      "cell_type": "markdown",
      "metadata": {},
      "source": [
        "Utilize the Pandas method read_csv() to load the data into a dataframe.\n"
      ]
    },
    {
      "cell_type": "code",
      "execution_count": 5,
      "metadata": {
        "trusted": true
      },
      "outputs": [],
      "source": [
        "df = pd.read_csv(file_name)"
      ]
    },
    {
      "cell_type": "markdown",
      "metadata": {},
      "source": [
        "> Note: This version of the lab is working on JupyterLite, which requires the dataset to be downloaded to the interface.While working on the downloaded version of this notebook on their local machines(Jupyter Anaconda), the learners can simply **skip the steps above,** and simply use the URL directly in the `pandas.read_csv()` function. You can uncomment and run the statements in the cell below.\n"
      ]
    },
    {
      "cell_type": "code",
      "execution_count": 2,
      "metadata": {
        "trusted": true
      },
      "outputs": [],
      "source": [
        "df = pd.read_csv(\"https://cf-courses-data.s3.us.cloud-object-storage.appdomain.cloud/IBM-DA0321EN-SkillsNetwork/LargeData/m1_survey_data.csv\")"
      ]
    },
    {
      "cell_type": "markdown",
      "metadata": {},
      "source": [
        "## Finding duplicates\n"
      ]
    },
    {
      "cell_type": "markdown",
      "metadata": {},
      "source": [
        "In this section you will identify duplicate values in the dataset.\n"
      ]
    },
    {
      "cell_type": "markdown",
      "metadata": {},
      "source": [
        " Find how many duplicate rows exist in the dataframe.\n"
      ]
    },
    {
      "cell_type": "markdown",
      "metadata": {},
      "source": [
        "## Removing duplicates\n"
      ]
    },
    {
      "cell_type": "markdown",
      "metadata": {},
      "source": [
        "Remove the duplicate rows from the dataframe.\n"
      ]
    },
    {
      "cell_type": "code",
      "execution_count": 3,
      "metadata": {
        "scrolled": true,
        "trusted": true
      },
      "outputs": [
        {
          "data": {
            "text/plain": [
              "np.int64(154)"
            ]
          },
          "execution_count": 3,
          "metadata": {},
          "output_type": "execute_result"
        }
      ],
      "source": [
        "# get the total number of rows and columns (11552 rows, and 85 columns)\n",
        "df.duplicated(keep='first').sum()\n"
      ]
    },
    {
      "cell_type": "code",
      "execution_count": null,
      "metadata": {
        "trusted": true
      },
      "outputs": [],
      "source": [
        "# check for duplicate rows: 154 rows are duplicates\n",
        "print(df[df.duplicated()])"
      ]
    },
    {
      "cell_type": "code",
      "execution_count": 5,
      "metadata": {
        "trusted": true
      },
      "outputs": [],
      "source": [
        "#drop the duplicate rows\n",
        "df = df.drop_duplicates()"
      ]
    },
    {
      "cell_type": "code",
      "execution_count": 6,
      "metadata": {
        "trusted": true
      },
      "outputs": [
        {
          "data": {
            "text/plain": [
              "11398"
            ]
          },
          "execution_count": 6,
          "metadata": {},
          "output_type": "execute_result"
        }
      ],
      "source": [
        "#confirming the number of rows now in the dataframe with df.shape[0]\n",
        "df.shape[0]"
      ]
    },
    {
      "cell_type": "markdown",
      "metadata": {},
      "source": [
        "Verify if duplicates were actually dropped.\n"
      ]
    },
    {
      "cell_type": "code",
      "execution_count": 7,
      "metadata": {
        "scrolled": true,
        "trusted": true
      },
      "outputs": [
        {
          "name": "stdout",
          "output_type": "stream",
          "text": [
            "<class 'pandas.core.frame.DataFrame'>\n",
            "Index: 11398 entries, 0 to 11551\n",
            "Data columns (total 85 columns):\n",
            " #   Column                  Non-Null Count  Dtype  \n",
            "---  ------                  --------------  -----  \n",
            " 0   Respondent              11398 non-null  int64  \n",
            " 1   MainBranch              11398 non-null  object \n",
            " 2   Hobbyist                11398 non-null  object \n",
            " 3   OpenSourcer             11398 non-null  object \n",
            " 4   OpenSource              11317 non-null  object \n",
            " 5   Employment              11398 non-null  object \n",
            " 6   Country                 11398 non-null  object \n",
            " 7   Student                 11347 non-null  object \n",
            " 8   EdLevel                 11286 non-null  object \n",
            " 9   UndergradMajor          10661 non-null  object \n",
            " 10  EduOther                11234 non-null  object \n",
            " 11  OrgSize                 11302 non-null  object \n",
            " 12  DevType                 11333 non-null  object \n",
            " 13  YearsCode               11389 non-null  object \n",
            " 14  Age1stCode              11385 non-null  object \n",
            " 15  YearsCodePro            11382 non-null  object \n",
            " 16  CareerSat               11398 non-null  object \n",
            " 17  JobSat                  11397 non-null  object \n",
            " 18  MgrIdiot                10905 non-null  object \n",
            " 19  MgrMoney                10901 non-null  object \n",
            " 20  MgrWant                 10905 non-null  object \n",
            " 21  JobSeek                 11398 non-null  object \n",
            " 22  LastHireDate            11398 non-null  object \n",
            " 23  LastInt                 10985 non-null  object \n",
            " 24  FizzBuzz                11361 non-null  object \n",
            " 25  JobFactors              11395 non-null  object \n",
            " 26  ResumeUpdate            11359 non-null  object \n",
            " 27  CurrencySymbol          11398 non-null  object \n",
            " 28  CurrencyDesc            11398 non-null  object \n",
            " 29  CompTotal               10589 non-null  float64\n",
            " 30  CompFreq                11192 non-null  object \n",
            " 31  ConvertedComp           10582 non-null  float64\n",
            " 32  WorkWeekHrs             11276 non-null  float64\n",
            " 33  WorkPlan                11277 non-null  object \n",
            " 34  WorkChallenge           11234 non-null  object \n",
            " 35  WorkRemote              11390 non-null  object \n",
            " 36  WorkLoc                 11366 non-null  object \n",
            " 37  ImpSyn                  11393 non-null  object \n",
            " 38  CodeRev                 11397 non-null  object \n",
            " 39  CodeRevHrs              8972 non-null   float64\n",
            " 40  UnitTests               11369 non-null  object \n",
            " 41  PurchaseHow             11202 non-null  object \n",
            " 42  PurchaseWhat            11360 non-null  object \n",
            " 43  LanguageWorkedWith      11387 non-null  object \n",
            " 44  LanguageDesireNextYear  11264 non-null  object \n",
            " 45  DatabaseWorkedWith      10945 non-null  object \n",
            " 46  DatabaseDesireNextYear  10356 non-null  object \n",
            " 47  PlatformWorkedWith      10987 non-null  object \n",
            " 48  PlatformDesireNextYear  10854 non-null  object \n",
            " 49  WebFrameWorkedWith      10005 non-null  object \n",
            " 50  WebFrameDesireNextYear  9781 non-null   object \n",
            " 51  MiscTechWorkedWith      9216 non-null   object \n",
            " 52  MiscTechDesireNextYear  9943 non-null   object \n",
            " 53  DevEnviron              11369 non-null  object \n",
            " 54  OpSys                   11364 non-null  object \n",
            " 55  Containers              11316 non-null  object \n",
            " 56  BlockchainOrg           9076 non-null   object \n",
            " 57  BlockchainIs            8788 non-null   object \n",
            " 58  BetterLife              11300 non-null  object \n",
            " 59  ITperson                11363 non-null  object \n",
            " 60  OffOn                   11360 non-null  object \n",
            " 61  SocialMedia             11105 non-null  object \n",
            " 62  Extraversion            11378 non-null  object \n",
            " 63  ScreenName              10891 non-null  object \n",
            " 64  SOVisit1st              11073 non-null  object \n",
            " 65  SOVisitFreq             11393 non-null  object \n",
            " 66  SOVisitTo               11397 non-null  object \n",
            " 67  SOFindAnswer            11395 non-null  object \n",
            " 68  SOTimeSaved             11348 non-null  object \n",
            " 69  SOHowMuchTime           9481 non-null   object \n",
            " 70  SOAccount               11397 non-null  object \n",
            " 71  SOPartFreq              10270 non-null  object \n",
            " 72  SOJobs                  11392 non-null  object \n",
            " 73  EntTeams                11393 non-null  object \n",
            " 74  SOComm                  11398 non-null  object \n",
            " 75  WelcomeChange           11313 non-null  object \n",
            " 76  SONewContent            9433 non-null   object \n",
            " 77  Age                     11111 non-null  float64\n",
            " 78  Gender                  11325 non-null  object \n",
            " 79  Trans                   11275 non-null  object \n",
            " 80  Sexuality               10856 non-null  object \n",
            " 81  Ethnicity               10723 non-null  object \n",
            " 82  Dependents              11258 non-null  object \n",
            " 83  SurveyLength            11379 non-null  object \n",
            " 84  SurveyEase              11384 non-null  object \n",
            "dtypes: float64(5), int64(1), object(79)\n",
            "memory usage: 7.5+ MB\n"
          ]
        }
      ],
      "source": [
        "# confirm new total rows and columns after duplicates dropped; 11398 rows now exist, 154 were dropped\n",
        "df.info()"
      ]
    },
    {
      "cell_type": "markdown",
      "metadata": {},
      "source": [
        "## Finding Missing values\n"
      ]
    },
    {
      "cell_type": "markdown",
      "metadata": {},
      "source": [
        "Find the missing values for all columns.\n"
      ]
    },
    {
      "cell_type": "code",
      "execution_count": 8,
      "metadata": {
        "scrolled": true,
        "trusted": true
      },
      "outputs": [
        {
          "data": {
            "text/plain": [
              "Respondent        0\n",
              "MainBranch        0\n",
              "Hobbyist          0\n",
              "OpenSourcer       0\n",
              "OpenSource       81\n",
              "               ... \n",
              "Sexuality       542\n",
              "Ethnicity       675\n",
              "Dependents      140\n",
              "SurveyLength     19\n",
              "SurveyEase       14\n",
              "Length: 85, dtype: int64"
            ]
          },
          "execution_count": 8,
          "metadata": {},
          "output_type": "execute_result"
        }
      ],
      "source": [
        "# check first five rows\n",
        "df.isnull().sum()\n"
      ]
    },
    {
      "cell_type": "code",
      "execution_count": 9,
      "metadata": {
        "trusted": true
      },
      "outputs": [],
      "source": [
        "#find the missing data using the isnull() - True means the value is missing, false means it is not missing\n",
        "missing_data = df.isnull()\n"
      ]
    },
    {
      "cell_type": "code",
      "execution_count": 10,
      "metadata": {
        "trusted": true
      },
      "outputs": [
        {
          "name": "stdout",
          "output_type": "stream",
          "text": [
            "Respondent\n",
            "Respondent\n",
            "False    11398\n",
            "Name: count, dtype: int64\n",
            "\n",
            "MainBranch\n",
            "MainBranch\n",
            "False    11398\n",
            "Name: count, dtype: int64\n",
            "\n",
            "Hobbyist\n",
            "Hobbyist\n",
            "False    11398\n",
            "Name: count, dtype: int64\n",
            "\n",
            "OpenSourcer\n",
            "OpenSourcer\n",
            "False    11398\n",
            "Name: count, dtype: int64\n",
            "\n",
            "OpenSource\n",
            "OpenSource\n",
            "False    11317\n",
            "True        81\n",
            "Name: count, dtype: int64\n",
            "\n",
            "Employment\n",
            "Employment\n",
            "False    11398\n",
            "Name: count, dtype: int64\n",
            "\n",
            "Country\n",
            "Country\n",
            "False    11398\n",
            "Name: count, dtype: int64\n",
            "\n",
            "Student\n",
            "Student\n",
            "False    11347\n",
            "True        51\n",
            "Name: count, dtype: int64\n",
            "\n",
            "EdLevel\n",
            "EdLevel\n",
            "False    11286\n",
            "True       112\n",
            "Name: count, dtype: int64\n",
            "\n",
            "UndergradMajor\n",
            "UndergradMajor\n",
            "False    10661\n",
            "True       737\n",
            "Name: count, dtype: int64\n",
            "\n",
            "EduOther\n",
            "EduOther\n",
            "False    11234\n",
            "True       164\n",
            "Name: count, dtype: int64\n",
            "\n",
            "OrgSize\n",
            "OrgSize\n",
            "False    11302\n",
            "True        96\n",
            "Name: count, dtype: int64\n",
            "\n",
            "DevType\n",
            "DevType\n",
            "False    11333\n",
            "True        65\n",
            "Name: count, dtype: int64\n",
            "\n",
            "YearsCode\n",
            "YearsCode\n",
            "False    11389\n",
            "True         9\n",
            "Name: count, dtype: int64\n",
            "\n",
            "Age1stCode\n",
            "Age1stCode\n",
            "False    11385\n",
            "True        13\n",
            "Name: count, dtype: int64\n",
            "\n",
            "YearsCodePro\n",
            "YearsCodePro\n",
            "False    11382\n",
            "True        16\n",
            "Name: count, dtype: int64\n",
            "\n",
            "CareerSat\n",
            "CareerSat\n",
            "False    11398\n",
            "Name: count, dtype: int64\n",
            "\n",
            "JobSat\n",
            "JobSat\n",
            "False    11397\n",
            "True         1\n",
            "Name: count, dtype: int64\n",
            "\n",
            "MgrIdiot\n",
            "MgrIdiot\n",
            "False    10905\n",
            "True       493\n",
            "Name: count, dtype: int64\n",
            "\n",
            "MgrMoney\n",
            "MgrMoney\n",
            "False    10901\n",
            "True       497\n",
            "Name: count, dtype: int64\n",
            "\n",
            "MgrWant\n",
            "MgrWant\n",
            "False    10905\n",
            "True       493\n",
            "Name: count, dtype: int64\n",
            "\n",
            "JobSeek\n",
            "JobSeek\n",
            "False    11398\n",
            "Name: count, dtype: int64\n",
            "\n",
            "LastHireDate\n",
            "LastHireDate\n",
            "False    11398\n",
            "Name: count, dtype: int64\n",
            "\n",
            "LastInt\n",
            "LastInt\n",
            "False    10985\n",
            "True       413\n",
            "Name: count, dtype: int64\n",
            "\n",
            "FizzBuzz\n",
            "FizzBuzz\n",
            "False    11361\n",
            "True        37\n",
            "Name: count, dtype: int64\n",
            "\n",
            "JobFactors\n",
            "JobFactors\n",
            "False    11395\n",
            "True         3\n",
            "Name: count, dtype: int64\n",
            "\n",
            "ResumeUpdate\n",
            "ResumeUpdate\n",
            "False    11359\n",
            "True        39\n",
            "Name: count, dtype: int64\n",
            "\n",
            "CurrencySymbol\n",
            "CurrencySymbol\n",
            "False    11398\n",
            "Name: count, dtype: int64\n",
            "\n",
            "CurrencyDesc\n",
            "CurrencyDesc\n",
            "False    11398\n",
            "Name: count, dtype: int64\n",
            "\n",
            "CompTotal\n",
            "CompTotal\n",
            "False    10589\n",
            "True       809\n",
            "Name: count, dtype: int64\n",
            "\n",
            "CompFreq\n",
            "CompFreq\n",
            "False    11192\n",
            "True       206\n",
            "Name: count, dtype: int64\n",
            "\n",
            "ConvertedComp\n",
            "ConvertedComp\n",
            "False    10582\n",
            "True       816\n",
            "Name: count, dtype: int64\n",
            "\n",
            "WorkWeekHrs\n",
            "WorkWeekHrs\n",
            "False    11276\n",
            "True       122\n",
            "Name: count, dtype: int64\n",
            "\n",
            "WorkPlan\n",
            "WorkPlan\n",
            "False    11277\n",
            "True       121\n",
            "Name: count, dtype: int64\n",
            "\n",
            "WorkChallenge\n",
            "WorkChallenge\n",
            "False    11234\n",
            "True       164\n",
            "Name: count, dtype: int64\n",
            "\n",
            "WorkRemote\n",
            "WorkRemote\n",
            "False    11390\n",
            "True         8\n",
            "Name: count, dtype: int64\n",
            "\n",
            "WorkLoc\n",
            "WorkLoc\n",
            "False    11366\n",
            "True        32\n",
            "Name: count, dtype: int64\n",
            "\n",
            "ImpSyn\n",
            "ImpSyn\n",
            "False    11393\n",
            "True         5\n",
            "Name: count, dtype: int64\n",
            "\n",
            "CodeRev\n",
            "CodeRev\n",
            "False    11397\n",
            "True         1\n",
            "Name: count, dtype: int64\n",
            "\n",
            "CodeRevHrs\n",
            "CodeRevHrs\n",
            "False    8972\n",
            "True     2426\n",
            "Name: count, dtype: int64\n",
            "\n",
            "UnitTests\n",
            "UnitTests\n",
            "False    11369\n",
            "True        29\n",
            "Name: count, dtype: int64\n",
            "\n",
            "PurchaseHow\n",
            "PurchaseHow\n",
            "False    11202\n",
            "True       196\n",
            "Name: count, dtype: int64\n",
            "\n",
            "PurchaseWhat\n",
            "PurchaseWhat\n",
            "False    11360\n",
            "True        38\n",
            "Name: count, dtype: int64\n",
            "\n",
            "LanguageWorkedWith\n",
            "LanguageWorkedWith\n",
            "False    11387\n",
            "True        11\n",
            "Name: count, dtype: int64\n",
            "\n",
            "LanguageDesireNextYear\n",
            "LanguageDesireNextYear\n",
            "False    11264\n",
            "True       134\n",
            "Name: count, dtype: int64\n",
            "\n",
            "DatabaseWorkedWith\n",
            "DatabaseWorkedWith\n",
            "False    10945\n",
            "True       453\n",
            "Name: count, dtype: int64\n",
            "\n",
            "DatabaseDesireNextYear\n",
            "DatabaseDesireNextYear\n",
            "False    10356\n",
            "True      1042\n",
            "Name: count, dtype: int64\n",
            "\n",
            "PlatformWorkedWith\n",
            "PlatformWorkedWith\n",
            "False    10987\n",
            "True       411\n",
            "Name: count, dtype: int64\n",
            "\n",
            "PlatformDesireNextYear\n",
            "PlatformDesireNextYear\n",
            "False    10854\n",
            "True       544\n",
            "Name: count, dtype: int64\n",
            "\n",
            "WebFrameWorkedWith\n",
            "WebFrameWorkedWith\n",
            "False    10005\n",
            "True      1393\n",
            "Name: count, dtype: int64\n",
            "\n",
            "WebFrameDesireNextYear\n",
            "WebFrameDesireNextYear\n",
            "False    9781\n",
            "True     1617\n",
            "Name: count, dtype: int64\n",
            "\n",
            "MiscTechWorkedWith\n",
            "MiscTechWorkedWith\n",
            "False    9216\n",
            "True     2182\n",
            "Name: count, dtype: int64\n",
            "\n",
            "MiscTechDesireNextYear\n",
            "MiscTechDesireNextYear\n",
            "False    9943\n",
            "True     1455\n",
            "Name: count, dtype: int64\n",
            "\n",
            "DevEnviron\n",
            "DevEnviron\n",
            "False    11369\n",
            "True        29\n",
            "Name: count, dtype: int64\n",
            "\n",
            "OpSys\n",
            "OpSys\n",
            "False    11364\n",
            "True        34\n",
            "Name: count, dtype: int64\n",
            "\n",
            "Containers\n",
            "Containers\n",
            "False    11316\n",
            "True        82\n",
            "Name: count, dtype: int64\n",
            "\n",
            "BlockchainOrg\n",
            "BlockchainOrg\n",
            "False    9076\n",
            "True     2322\n",
            "Name: count, dtype: int64\n",
            "\n",
            "BlockchainIs\n",
            "BlockchainIs\n",
            "False    8788\n",
            "True     2610\n",
            "Name: count, dtype: int64\n",
            "\n",
            "BetterLife\n",
            "BetterLife\n",
            "False    11300\n",
            "True        98\n",
            "Name: count, dtype: int64\n",
            "\n",
            "ITperson\n",
            "ITperson\n",
            "False    11363\n",
            "True        35\n",
            "Name: count, dtype: int64\n",
            "\n",
            "OffOn\n",
            "OffOn\n",
            "False    11360\n",
            "True        38\n",
            "Name: count, dtype: int64\n",
            "\n",
            "SocialMedia\n",
            "SocialMedia\n",
            "False    11105\n",
            "True       293\n",
            "Name: count, dtype: int64\n",
            "\n",
            "Extraversion\n",
            "Extraversion\n",
            "False    11378\n",
            "True        20\n",
            "Name: count, dtype: int64\n",
            "\n",
            "ScreenName\n",
            "ScreenName\n",
            "False    10891\n",
            "True       507\n",
            "Name: count, dtype: int64\n",
            "\n",
            "SOVisit1st\n",
            "SOVisit1st\n",
            "False    11073\n",
            "True       325\n",
            "Name: count, dtype: int64\n",
            "\n",
            "SOVisitFreq\n",
            "SOVisitFreq\n",
            "False    11393\n",
            "True         5\n",
            "Name: count, dtype: int64\n",
            "\n",
            "SOVisitTo\n",
            "SOVisitTo\n",
            "False    11397\n",
            "True         1\n",
            "Name: count, dtype: int64\n",
            "\n",
            "SOFindAnswer\n",
            "SOFindAnswer\n",
            "False    11395\n",
            "True         3\n",
            "Name: count, dtype: int64\n",
            "\n",
            "SOTimeSaved\n",
            "SOTimeSaved\n",
            "False    11348\n",
            "True        50\n",
            "Name: count, dtype: int64\n",
            "\n",
            "SOHowMuchTime\n",
            "SOHowMuchTime\n",
            "False    9481\n",
            "True     1917\n",
            "Name: count, dtype: int64\n",
            "\n",
            "SOAccount\n",
            "SOAccount\n",
            "False    11397\n",
            "True         1\n",
            "Name: count, dtype: int64\n",
            "\n",
            "SOPartFreq\n",
            "SOPartFreq\n",
            "False    10270\n",
            "True      1128\n",
            "Name: count, dtype: int64\n",
            "\n",
            "SOJobs\n",
            "SOJobs\n",
            "False    11392\n",
            "True         6\n",
            "Name: count, dtype: int64\n",
            "\n",
            "EntTeams\n",
            "EntTeams\n",
            "False    11393\n",
            "True         5\n",
            "Name: count, dtype: int64\n",
            "\n",
            "SOComm\n",
            "SOComm\n",
            "False    11398\n",
            "Name: count, dtype: int64\n",
            "\n",
            "WelcomeChange\n",
            "WelcomeChange\n",
            "False    11313\n",
            "True        85\n",
            "Name: count, dtype: int64\n",
            "\n",
            "SONewContent\n",
            "SONewContent\n",
            "False    9433\n",
            "True     1965\n",
            "Name: count, dtype: int64\n",
            "\n",
            "Age\n",
            "Age\n",
            "False    11111\n",
            "True       287\n",
            "Name: count, dtype: int64\n",
            "\n",
            "Gender\n",
            "Gender\n",
            "False    11325\n",
            "True        73\n",
            "Name: count, dtype: int64\n",
            "\n",
            "Trans\n",
            "Trans\n",
            "False    11275\n",
            "True       123\n",
            "Name: count, dtype: int64\n",
            "\n",
            "Sexuality\n",
            "Sexuality\n",
            "False    10856\n",
            "True       542\n",
            "Name: count, dtype: int64\n",
            "\n",
            "Ethnicity\n",
            "Ethnicity\n",
            "False    10723\n",
            "True       675\n",
            "Name: count, dtype: int64\n",
            "\n",
            "Dependents\n",
            "Dependents\n",
            "False    11258\n",
            "True       140\n",
            "Name: count, dtype: int64\n",
            "\n",
            "SurveyLength\n",
            "SurveyLength\n",
            "False    11379\n",
            "True        19\n",
            "Name: count, dtype: int64\n",
            "\n",
            "SurveyEase\n",
            "SurveyEase\n",
            "False    11384\n",
            "True        14\n",
            "Name: count, dtype: int64\n",
            "\n"
          ]
        }
      ],
      "source": [
        "#count missing values in each column\n",
        "for column in missing_data.columns.values.tolist():\n",
        "    print(column)\n",
        "    print (missing_data[column].value_counts())\n",
        "    print(\"\")  \n",
        "#missing values by column: 81 in OpenSource, 51 in Student, 112 in EdLevel, \n",
        "#737 in Undergrad Major, 164 in EduOther, 96 in OrgSize, 65 in DevType, "
      ]
    },
    {
      "cell_type": "markdown",
      "metadata": {},
      "source": [
        "Find out how many rows are missing in the column 'WorkLoc'\n"
      ]
    },
    {
      "cell_type": "code",
      "execution_count": 11,
      "metadata": {
        "trusted": true
      },
      "outputs": [
        {
          "name": "stdout",
          "output_type": "stream",
          "text": [
            "WorkLoc\n",
            "False    11366\n",
            "True        32\n",
            "Name: count, dtype: int64\n"
          ]
        }
      ],
      "source": [
        "#  from previous code, it shows there are 32 values missing in WorkLoc\n",
        "print(missing_data['WorkLoc'].value_counts())"
      ]
    },
    {
      "cell_type": "markdown",
      "metadata": {},
      "source": [
        "## Imputing missing values\n"
      ]
    },
    {
      "cell_type": "markdown",
      "metadata": {},
      "source": [
        "Find the  value counts for the column WorkLoc.\n"
      ]
    },
    {
      "cell_type": "code",
      "execution_count": 12,
      "metadata": {
        "trusted": true
      },
      "outputs": [
        {
          "data": {
            "text/plain": [
              "WorkLoc\n",
              "Office                                            6806\n",
              "Home                                              3589\n",
              "Other place, such as a coworking space or cafe     971\n",
              "Name: count, dtype: int64"
            ]
          },
          "execution_count": 12,
          "metadata": {},
          "output_type": "execute_result"
        }
      ],
      "source": [
        "#total value counts for the column WorkLoc\n",
        "df['WorkLoc'].value_counts()\n"
      ]
    },
    {
      "cell_type": "markdown",
      "metadata": {},
      "source": [
        "Identify the value that is most frequent (majority) in the WorkLoc column.\n"
      ]
    },
    {
      "cell_type": "code",
      "execution_count": 13,
      "metadata": {
        "trusted": true
      },
      "outputs": [
        {
          "name": "stdout",
          "output_type": "stream",
          "text": [
            "The value that is most frequent (majority) in the 'WorkLoc' column is:  Office\n"
          ]
        }
      ],
      "source": [
        "#make a note of the majority value here, for future reference\n",
        "most_freq_workloc = df['WorkLoc'].mode()[0]\n",
        "print(\"The value that is most frequent (majority) in the 'WorkLoc' column is: \", most_freq_workloc)"
      ]
    },
    {
      "cell_type": "code",
      "execution_count": null,
      "metadata": {
        "trusted": true
      },
      "outputs": [],
      "source": []
    },
    {
      "cell_type": "markdown",
      "metadata": {},
      "source": [
        "Impute (replace) all the empty rows in the column WorkLoc with the value that you have identified as majority.\n"
      ]
    },
    {
      "cell_type": "code",
      "execution_count": 14,
      "metadata": {
        "trusted": true
      },
      "outputs": [
        {
          "name": "stderr",
          "output_type": "stream",
          "text": [
            "C:\\Users\\matth\\AppData\\Local\\Temp\\ipykernel_158652\\2093742447.py:2: FutureWarning: A value is trying to be set on a copy of a DataFrame or Series through chained assignment using an inplace method.\n",
            "The behavior will change in pandas 3.0. This inplace method will never work because the intermediate object on which we are setting values always behaves as a copy.\n",
            "\n",
            "For example, when doing 'df[col].method(value, inplace=True)', try using 'df.method({col: value}, inplace=True)' or df[col] = df[col].method(value) instead, to perform the operation inplace on the original object.\n",
            "\n",
            "\n",
            "  df['WorkLoc'].fillna(value='Office', inplace=True)\n"
          ]
        }
      ],
      "source": [
        "# using fillna to replace the empty rows in WorkLoc with the majority value which is 'Office'\n",
        "df['WorkLoc'].fillna(value='Office', inplace=True)\n"
      ]
    },
    {
      "cell_type": "code",
      "execution_count": 15,
      "metadata": {
        "trusted": true
      },
      "outputs": [
        {
          "data": {
            "text/plain": [
              "WorkLoc\n",
              "Office                                            6838\n",
              "Home                                              3589\n",
              "Other place, such as a coworking space or cafe     971\n",
              "Name: count, dtype: int64"
            ]
          },
          "execution_count": 15,
          "metadata": {},
          "output_type": "execute_result"
        }
      ],
      "source": [
        "df['WorkLoc'].value_counts()\n"
      ]
    },
    {
      "cell_type": "markdown",
      "metadata": {},
      "source": [
        "After imputation there should ideally not be any empty rows in the WorkLoc column.\n"
      ]
    },
    {
      "cell_type": "markdown",
      "metadata": {},
      "source": [
        "Verify if imputing was successful.\n"
      ]
    },
    {
      "cell_type": "code",
      "execution_count": 16,
      "metadata": {
        "trusted": true
      },
      "outputs": [
        {
          "data": {
            "text/plain": [
              "np.int64(0)"
            ]
          },
          "execution_count": 16,
          "metadata": {},
          "output_type": "execute_result"
        }
      ],
      "source": [
        "# verify if imputing was successful\n",
        "df['WorkLoc'].isnull().sum()\n"
      ]
    },
    {
      "cell_type": "markdown",
      "metadata": {},
      "source": [
        "## Normalizing data\n"
      ]
    },
    {
      "cell_type": "markdown",
      "metadata": {},
      "source": [
        "There are two columns in the dataset that talk about compensation.\n",
        "\n",
        "One is \"CompFreq\". This column shows how often a developer is paid (Yearly, Monthly, Weekly).\n",
        "\n",
        "The other is \"CompTotal\". This column talks about how much the developer is paid per Year, Month, or Week depending upon his/her \"CompFreq\". \n",
        "\n",
        "This makes it difficult to compare the total compensation of the developers.\n",
        "\n",
        "In this section you will create a new column called 'NormalizedAnnualCompensation' which contains the 'Annual Compensation' irrespective of the 'CompFreq'.\n",
        "\n",
        "Once this column is ready, it makes comparison of salaries easy.\n"
      ]
    },
    {
      "cell_type": "markdown",
      "metadata": {},
      "source": [
        "<hr>\n"
      ]
    },
    {
      "cell_type": "markdown",
      "metadata": {},
      "source": [
        "List out the various categories in the column 'CompFreq'\n"
      ]
    },
    {
      "cell_type": "code",
      "execution_count": null,
      "metadata": {
        "trusted": true
      },
      "outputs": [],
      "source": []
    },
    {
      "cell_type": "code",
      "execution_count": 17,
      "metadata": {
        "trusted": true
      },
      "outputs": [
        {
          "data": {
            "text/plain": [
              "CompFreq\n",
              "Yearly     6073\n",
              "Monthly    4788\n",
              "Weekly      331\n",
              "Name: count, dtype: int64"
            ]
          },
          "execution_count": 17,
          "metadata": {},
          "output_type": "execute_result"
        }
      ],
      "source": [
        "# your code goes here\n",
        "df['CompFreq'].value_counts()\n",
        "#df['CompFreq'].value_counts()"
      ]
    },
    {
      "cell_type": "code",
      "execution_count": 19,
      "metadata": {
        "trusted": true
      },
      "outputs": [
        {
          "data": {
            "text/plain": [
              "np.float64(65000.0)"
            ]
          },
          "execution_count": 19,
          "metadata": {},
          "output_type": "execute_result"
        }
      ],
      "source": [
        "df['CompTotal'].median() #median salary to replace missing values in CompTotal "
      ]
    },
    {
      "cell_type": "code",
      "execution_count": null,
      "metadata": {
        "trusted": true
      },
      "outputs": [],
      "source": [
        "#first, replace the missing data in the CompFreq and CompTotal columns\n",
        "df['CompFreq'].replace(np.nan, 'Yearly', inplace=True) #replacing 206 missing values with yearly value (majority value)\n",
        "df['CompTotal'].replace(np.nan, 65000.0, inplace=True)"
      ]
    },
    {
      "cell_type": "code",
      "execution_count": 35,
      "metadata": {},
      "outputs": [],
      "source": [
        "#alternative for normalizing annual compensation\n",
        "#def fillComp(freq,total):\n",
        "\n",
        " #   if freq == 'Yearly':\n",
        "\n",
        "  #      return total\n",
        "\n",
        "   # elif freq == 'Monthly':\n",
        "\n",
        "    #    return total * 12\n",
        "\n",
        "   # elif freq == \"Weekly\":\n",
        "\n",
        "    #    return total * 52\n",
        "\n",
        "#df['NormalizedAnnualCompensation'] = df.apply(lambda row : fillComp(row['CompFreq'],row['CompTotal']), axis = 1) "
      ]
    },
    {
      "cell_type": "markdown",
      "metadata": {},
      "source": [
        "Create a new column named 'NormalizedAnnualCompensation'. Use the hint given below if needed.\n"
      ]
    },
    {
      "cell_type": "markdown",
      "metadata": {},
      "source": [
        "Double click to see the **Hint**.\n",
        "\n",
        "<!--\n",
        "\n",
        "Use the below logic to arrive at the values for the column NormalizedAnnualCompensation.\n",
        "\n",
        "If the CompFreq is Yearly then use the exising value in CompTotal\n",
        "If the CompFreq is Monthly then multiply the value in CompTotal with 12 (months in an year)\n",
        "If the CompFreq is Weekly then multiply the value in CompTotal with 52 (weeks in an year)\n",
        "\n",
        "-->\n"
      ]
    },
    {
      "cell_type": "code",
      "execution_count": null,
      "metadata": {},
      "outputs": [],
      "source": [
        "#alternative for NormalizedAnnualCompensation\n",
        "#create new column named 'NormalizedAnnualCompensation'\n",
        "#df[\"CompFreq\"].replace(to_replace=\"Yearly\",value=1,inplace=True)\n",
        "#df[\"CompFreq\"].replace(to_replace=\"Monthly\",value=12,inplace=True)\n",
        "#df[\"CompFreq\"].replace(to_replace=\"Weekly\",value=52,inplace=True)\n",
        "#df['NormalizedAnnualCompensation'] = df[\"CompTotal\"] * df[\"CompFreq\"]\n",
        "#df.tail(5)"
      ]
    },
    {
      "cell_type": "code",
      "execution_count": 21,
      "metadata": {
        "trusted": true
      },
      "outputs": [
        {
          "data": {
            "text/plain": [
              "0     61000.0\n",
              "1    138000.0\n",
              "2     90000.0\n",
              "3    348000.0\n",
              "4     90000.0\n",
              "Name: NormalizedAnnualCompensation, dtype: float64"
            ]
          },
          "execution_count": 21,
          "metadata": {},
          "output_type": "execute_result"
        }
      ],
      "source": [
        "# creating a column called NormalizedAnnualCompensation based on following criteria\n",
        "\n",
        "#calculate Annual Compensation\n",
        "def compensation(freq, total): #freq = frequency\n",
        "    result = 0\n",
        "    if freq == 'Yearly':\n",
        "        result = total\n",
        "    elif freq == 'Monthly':\n",
        "        result = total * 12\n",
        "    elif freq == 'Weekly':\n",
        "        result = total * 52\n",
        "    return result\n",
        "\n",
        "annual = [compensation(freq, total) for freq, total in zip(df['CompFreq'], df['CompTotal'])]\n",
        "df['NormalizedAnnualCompensation'] = annual #create new column \n",
        "df['NormalizedAnnualCompensation'].head()"
      ]
    },
    {
      "cell_type": "code",
      "execution_count": 22,
      "metadata": {
        "trusted": true
      },
      "outputs": [
        {
          "data": {
            "text/plain": [
              "np.float64(103000.0)"
            ]
          },
          "execution_count": 22,
          "metadata": {},
          "output_type": "execute_result"
        }
      ],
      "source": [
        "#find median of normalized annual compensation\n",
        "df['NormalizedAnnualCompensation'].median()"
      ]
    },
    {
      "cell_type": "code",
      "execution_count": 23,
      "metadata": {},
      "outputs": [
        {
          "data": {
            "text/plain": [
              "0    780000.0\n",
              "Name: NormalizedAnnualCompensation, dtype: float64"
            ]
          },
          "execution_count": 23,
          "metadata": {},
          "output_type": "execute_result"
        }
      ],
      "source": [
        "df['NormalizedAnnualCompensation'].mode()"
      ]
    },
    {
      "cell_type": "markdown",
      "metadata": {},
      "source": [
        "## Authors\n"
      ]
    },
    {
      "cell_type": "markdown",
      "metadata": {},
      "source": [
        "Ramesh Sannareddy\n"
      ]
    },
    {
      "cell_type": "markdown",
      "metadata": {},
      "source": [
        "### Other Contributors\n"
      ]
    },
    {
      "cell_type": "markdown",
      "metadata": {},
      "source": [
        "Rav Ahuja\n"
      ]
    },
    {
      "cell_type": "markdown",
      "metadata": {},
      "source": [
        " ## Change Log\n"
      ]
    },
    {
      "cell_type": "markdown",
      "metadata": {},
      "source": [
        "|Date (YYYY-MM-DD)|Version|Changed By|Change Description|\n",
        "|-|-|-|-|\n",
        "|2024-09-24|1.1|Madhusudhan Moole|Updated lab|\n",
        "|2024-09-23|1.0|Raghul Ramesh|Created lab|\n"
      ]
    },
    {
      "cell_type": "markdown",
      "metadata": {},
      "source": [
        "<!--| Date (YYYY-MM-DD) | Version | Changed By        | Change Description                 |\n",
        "| ----------------- | ------- | ----------------- | ---------------------------------- |\n",
        "| 2020-10-17        | 0.1     | Ramesh Sannareddy | Created initial version of the lab |--!>\n"
      ]
    },
    {
      "cell_type": "markdown",
      "metadata": {},
      "source": [
        "## <h3 align=\"center\"> © IBM Corporation. All rights reserved. <h3/>\n"
      ]
    },
    {
      "cell_type": "code",
      "execution_count": null,
      "metadata": {},
      "outputs": [],
      "source": []
    }
  ],
  "metadata": {
    "kernelspec": {
      "display_name": "Python 3",
      "language": "python",
      "name": "python3"
    },
    "language_info": {
      "codemirror_mode": {
        "name": "ipython",
        "version": 3
      },
      "file_extension": ".py",
      "mimetype": "text/x-python",
      "name": "python",
      "nbconvert_exporter": "python",
      "pygments_lexer": "ipython3",
      "version": "3.12.3"
    },
    "prev_pub_hash": "fee3cd0da99af27f7f7a8d9c340e8e78f253ffc32a2251cadcb6968f21d952d5"
  },
  "nbformat": 4,
  "nbformat_minor": 4
}
